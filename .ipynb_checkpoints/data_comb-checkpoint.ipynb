{
 "cells": [
  {
   "cell_type": "code",
   "execution_count": 1,
   "id": "64064365",
   "metadata": {},
   "outputs": [],
   "source": [
    "import pandas as pd\n",
    "import os\n",
    "import numpy as np"
   ]
  },
  {
   "cell_type": "markdown",
   "id": "b508d91a",
   "metadata": {},
   "source": [
    "## Load json data\n",
    "* `yelp_academic_dataset_user`\n",
    "* `yelp_academic_dataset_business`\n",
    "* `yelp_academic_dataset_review`\n",
    "* `yelp_academic_dataset_tip`"
   ]
  },
  {
   "cell_type": "code",
   "execution_count": 2,
   "id": "08ae0f6a",
   "metadata": {},
   "outputs": [],
   "source": [
    "DATA_ROOT_DIRECTORY = '../rev_Yelp/'"
   ]
  },
  {
   "cell_type": "code",
   "execution_count": 188,
   "id": "e9d4c4a4",
   "metadata": {},
   "outputs": [],
   "source": [
    "active_user_df = pd.read_json(os.path.join(DATA_ROOT_DIRECTORY, \"yelp_academic_dataset_user.json\")).reset_index(drop=True)\n",
    "restaurant_df = pd.read_json(os.path.join(DATA_ROOT_DIRECTORY, \"yelp_academic_dataset_business.json\")).reset_index(drop=True)\n",
    "review_df = pd.read_json(os.path.join(DATA_ROOT_DIRECTORY, \"yelp_academic_dataset_review.json\")).reset_index(drop=True)\n",
    "tip_df = pd.read_json(os.path.join(DATA_ROOT_DIRECTORY, \"yelp_academic_dataset_tip.json\")).reset_index(drop=True)"
   ]
  },
  {
   "cell_type": "code",
   "execution_count": 179,
   "id": "0c533365",
   "metadata": {},
   "outputs": [],
   "source": [
    "active_user_df['elite'] = active_user_df['elite'].str.split(',').str.len()"
   ]
  },
  {
   "cell_type": "markdown",
   "id": "d32e0b8b",
   "metadata": {},
   "source": [
    "## Joining based on `business`"
   ]
  },
  {
   "cell_type": "code",
   "execution_count": 184,
   "id": "f3693ada",
   "metadata": {},
   "outputs": [],
   "source": [
    "def gen_prange(n):\n",
    "    return np.arange(n+1)/n\n",
    "\n",
    "def convert_column_by_percentage(column_data, percentage, score=None):\n",
    "    '''\n",
    "    Args\n",
    "        column_data: pandas Series\n",
    "            input feature\n",
    "        percentage: list\n",
    "            list of percentage for assigning different scores.\n",
    "            note that the list should be in the assending order and have only positive value ranging from 0.0 to 1.0.\n",
    "        score: list (Optional)\n",
    "            list of scores corresponding to the percentage list,\n",
    "            if not given, will automatically use [0 ... len(percentage)]\n",
    "    '''\n",
    "    if score is None:\n",
    "        score = np.arange(len(percentage))\n",
    "    assert len(percentage) == len(score), print(\"The length of the defined range is not equal to that of the scores\")\n",
    "    column_sorted = np.sort(column_data)\n",
    "    output = column_data.values.copy()\n",
    "    last_value = column_data.min()-1\n",
    "    for p, s in zip(percentage, score):\n",
    "        indice = int((column_sorted.size-1)*p)\n",
    "        value = column_sorted[indice]\n",
    "        idx = (column_data <= value) & (column_data > last_value)\n",
    "        output[idx.values] = s\n",
    "        last_value = value\n",
    "    return output\n",
    "\n",
    "def convert_column_by_absolute(column_data, absolute_values, score=None):\n",
    "    '''\n",
    "    Args\n",
    "        column_data: pandas Series\n",
    "            input feature\n",
    "        absolute_values: list\n",
    "            absolute value range for assigning different scores.\n",
    "            note that the list should be in the assending order.\n",
    "        score: list (Optional)\n",
    "            list of scores corresponding to the percentage list,\n",
    "            if not given, will automatically use [0 ... len(percentage)]\n",
    "    '''\n",
    "    if score is None:\n",
    "        score = np.arange(len(absolute_values))\n",
    "    assert len(absolute_values) == len(score), print(\"The length of the defined range is not equal to that of the scores\")\n",
    "    column_sorted = np.sort(column_data)\n",
    "    output = column_data.values.copy()\n",
    "    last_value = column_data.min()-1\n",
    "    for av, s in zip(absolute_values, score):\n",
    "        idx = (column_data <= av) & (column_data > last_value)\n",
    "        output[idx.values] = s\n",
    "        last_value = av\n",
    "    return output\n",
    "\n",
    "def assign_score(to_df, from_src, by_feature, split_list, with_type, score=None):\n",
    "    assert with_type != 'absolute' or with_type != 'percentage', print(\"Neither `absolute` or `percentage`\")\n",
    "    output = None\n",
    "    if with_type == 'percentage':\n",
    "        output = convert_column_by_percentage(active_user_df[by_feature], split_list)\n",
    "    elif with_type == 'absolute':\n",
    "        output = convert_column_by_absolute(active_user_df[by_feature], split_list)\n",
    "    user_score_df[by_feature] = output.tolist()"
   ]
  },
  {
   "cell_type": "markdown",
   "id": "8ec635d1",
   "metadata": {},
   "source": [
    "### 1. Calculate the importance of each `user`"
   ]
  },
  {
   "cell_type": "code",
   "execution_count": 54,
   "id": "72293752",
   "metadata": {},
   "outputs": [
    {
     "data": {
      "text/plain": [
       "Index(['user_id', 'name', 'review_count', 'yelping_since', 'useful', 'funny',\n",
       "       'cool', 'elite', 'friends', 'fans', 'average_stars', 'compliment_hot',\n",
       "       'compliment_more', 'compliment_profile', 'compliment_cute',\n",
       "       'compliment_list', 'compliment_note', 'compliment_plain',\n",
       "       'compliment_cool', 'compliment_funny', 'compliment_writer',\n",
       "       'compliment_photos'],\n",
       "      dtype='object')"
      ]
     },
     "execution_count": 54,
     "metadata": {},
     "output_type": "execute_result"
    }
   ],
   "source": [
    "active_user_df.columns"
   ]
  },
  {
   "cell_type": "code",
   "execution_count": 64,
   "id": "bd03d067",
   "metadata": {},
   "outputs": [],
   "source": [
    "user_score_df = pd.DataFrame(active_user_df['user_id'])\n",
    "user_score_df = user_score_df.reset_index(drop=True)"
   ]
  },
  {
   "cell_type": "markdown",
   "id": "97467cf7",
   "metadata": {},
   "source": [
    "* `review_count` - percentage 0...1/5\n",
    "* `fans` - percentage 0...1/10\n",
    "* `elite` - absolute"
   ]
  },
  {
   "cell_type": "code",
   "execution_count": 181,
   "id": "79a70614",
   "metadata": {},
   "outputs": [],
   "source": [
    "trg_features = ['review_count', 'fans', 'elite']\n",
    "trg_split_range = [gen_prange(5), gen_prange(10), [0, 1, 2, 4, 6, 8, 17]]\n",
    "trg_split_type = ['percentage', 'percentage', 'absolute']"
   ]
  },
  {
   "cell_type": "code",
   "execution_count": 185,
   "id": "7ef38bde",
   "metadata": {},
   "outputs": [],
   "source": [
    "for i in range(len(trg_features)):\n",
    "    assign_score(to_df=user_score_df, from_src=active_user_df, by_feature=trg_features[i],\n",
    "                 split_list=trg_split_range[i], with_type=trg_split_type[i])"
   ]
  },
  {
   "cell_type": "code",
   "execution_count": 186,
   "id": "870b04ef",
   "metadata": {},
   "outputs": [
    {
     "data": {
      "text/html": [
       "<div>\n",
       "<style scoped>\n",
       "    .dataframe tbody tr th:only-of-type {\n",
       "        vertical-align: middle;\n",
       "    }\n",
       "\n",
       "    .dataframe tbody tr th {\n",
       "        vertical-align: top;\n",
       "    }\n",
       "\n",
       "    .dataframe thead th {\n",
       "        text-align: right;\n",
       "    }\n",
       "</style>\n",
       "<table border=\"1\" class=\"dataframe\">\n",
       "  <thead>\n",
       "    <tr style=\"text-align: right;\">\n",
       "      <th></th>\n",
       "      <th>user_id</th>\n",
       "      <th>review_count</th>\n",
       "      <th>fans</th>\n",
       "      <th>elite</th>\n",
       "    </tr>\n",
       "  </thead>\n",
       "  <tbody>\n",
       "    <tr>\n",
       "      <th>0</th>\n",
       "      <td>qVc8ODYU5SZjKXVBgXdI7w</td>\n",
       "      <td>5</td>\n",
       "      <td>10</td>\n",
       "      <td>1</td>\n",
       "    </tr>\n",
       "    <tr>\n",
       "      <th>1</th>\n",
       "      <td>j14WgRoU_-2ZE1aw1dXrJg</td>\n",
       "      <td>5</td>\n",
       "      <td>10</td>\n",
       "      <td>6</td>\n",
       "    </tr>\n",
       "    <tr>\n",
       "      <th>2</th>\n",
       "      <td>2WnXYQFK0hXEoTxPtV2zvg</td>\n",
       "      <td>5</td>\n",
       "      <td>9</td>\n",
       "      <td>4</td>\n",
       "    </tr>\n",
       "    <tr>\n",
       "      <th>3</th>\n",
       "      <td>SZDeASXq7o05mMNLshsdIA</td>\n",
       "      <td>3</td>\n",
       "      <td>7</td>\n",
       "      <td>3</td>\n",
       "    </tr>\n",
       "    <tr>\n",
       "      <th>4</th>\n",
       "      <td>q_QQ5kBBwlCcbL1s4NVK3g</td>\n",
       "      <td>5</td>\n",
       "      <td>10</td>\n",
       "      <td>6</td>\n",
       "    </tr>\n",
       "  </tbody>\n",
       "</table>\n",
       "</div>"
      ],
      "text/plain": [
       "                  user_id  review_count  fans  elite\n",
       "0  qVc8ODYU5SZjKXVBgXdI7w             5    10      1\n",
       "1  j14WgRoU_-2ZE1aw1dXrJg             5    10      6\n",
       "2  2WnXYQFK0hXEoTxPtV2zvg             5     9      4\n",
       "3  SZDeASXq7o05mMNLshsdIA             3     7      3\n",
       "4  q_QQ5kBBwlCcbL1s4NVK3g             5    10      6"
      ]
     },
     "execution_count": 186,
     "metadata": {},
     "output_type": "execute_result"
    }
   ],
   "source": [
    "user_score_df.head(5)"
   ]
  },
  {
   "cell_type": "markdown",
   "id": "eeb33741",
   "metadata": {},
   "source": [
    "### 2. Join the important of `user` with `review`"
   ]
  },
  {
   "cell_type": "markdown",
   "id": "d21aaef3",
   "metadata": {},
   "source": [
    "**Potential issue**:\n",
    "* same user may have > 1 reviews on the same restaurant"
   ]
  },
  {
   "cell_type": "code",
   "execution_count": 117,
   "id": "371b3812",
   "metadata": {},
   "outputs": [
    {
     "data": {
      "text/plain": [
       "Index(['review_id', 'user_id', 'business_id', 'stars', 'useful', 'funny',\n",
       "       'cool', 'text', 'date'],\n",
       "      dtype='object')"
      ]
     },
     "execution_count": 117,
     "metadata": {},
     "output_type": "execute_result"
    }
   ],
   "source": [
    "review_df.columns"
   ]
  },
  {
   "cell_type": "code",
   "execution_count": 138,
   "id": "7b4483c4",
   "metadata": {},
   "outputs": [
    {
     "data": {
      "text/html": [
       "<div>\n",
       "<style scoped>\n",
       "    .dataframe tbody tr th:only-of-type {\n",
       "        vertical-align: middle;\n",
       "    }\n",
       "\n",
       "    .dataframe tbody tr th {\n",
       "        vertical-align: top;\n",
       "    }\n",
       "\n",
       "    .dataframe thead th {\n",
       "        text-align: right;\n",
       "    }\n",
       "</style>\n",
       "<table border=\"1\" class=\"dataframe\">\n",
       "  <thead>\n",
       "    <tr style=\"text-align: right;\">\n",
       "      <th></th>\n",
       "      <th>user_id</th>\n",
       "      <th>business_id</th>\n",
       "      <th>stars</th>\n",
       "      <th>review_count</th>\n",
       "      <th>fans</th>\n",
       "    </tr>\n",
       "  </thead>\n",
       "  <tbody>\n",
       "    <tr>\n",
       "      <th>0</th>\n",
       "      <td>j2wlzrntrbKwyOcOiB3l3w</td>\n",
       "      <td>rBdG_23USc7DletfZ11xGA</td>\n",
       "      <td>4</td>\n",
       "      <td>1</td>\n",
       "      <td>2</td>\n",
       "    </tr>\n",
       "    <tr>\n",
       "      <th>1</th>\n",
       "      <td>4hBhtCSgoxkrFgHa4YAD-w</td>\n",
       "      <td>bbEXAEFr4RYHLlZ-HFssTA</td>\n",
       "      <td>5</td>\n",
       "      <td>5</td>\n",
       "      <td>9</td>\n",
       "    </tr>\n",
       "    <tr>\n",
       "      <th>2</th>\n",
       "      <td>ZGjgfSvjQK886kiTzLwfLQ</td>\n",
       "      <td>EtKSTHV5Qx_Q7Aur9o4kQQ</td>\n",
       "      <td>5</td>\n",
       "      <td>5</td>\n",
       "      <td>9</td>\n",
       "    </tr>\n",
       "    <tr>\n",
       "      <th>3</th>\n",
       "      <td>IKbjLnfBQtEyVzEu8CuOLg</td>\n",
       "      <td>VJEzpfLs_Jnzgqh5A_FVTg</td>\n",
       "      <td>4</td>\n",
       "      <td>5</td>\n",
       "      <td>9</td>\n",
       "    </tr>\n",
       "    <tr>\n",
       "      <th>4</th>\n",
       "      <td>DBYhpb5hrAYgQjQaMhNYyQ</td>\n",
       "      <td>oJ4ik-4PZe6gexxW-tSmsw</td>\n",
       "      <td>4</td>\n",
       "      <td>3</td>\n",
       "      <td>3</td>\n",
       "    </tr>\n",
       "  </tbody>\n",
       "</table>\n",
       "</div>"
      ],
      "text/plain": [
       "                  user_id             business_id  stars  review_count  fans\n",
       "0  j2wlzrntrbKwyOcOiB3l3w  rBdG_23USc7DletfZ11xGA      4             1     2\n",
       "1  4hBhtCSgoxkrFgHa4YAD-w  bbEXAEFr4RYHLlZ-HFssTA      5             5     9\n",
       "2  ZGjgfSvjQK886kiTzLwfLQ  EtKSTHV5Qx_Q7Aur9o4kQQ      5             5     9\n",
       "3  IKbjLnfBQtEyVzEu8CuOLg  VJEzpfLs_Jnzgqh5A_FVTg      4             5     9\n",
       "4  DBYhpb5hrAYgQjQaMhNYyQ  oJ4ik-4PZe6gexxW-tSmsw      4             3     3"
      ]
     },
     "execution_count": 138,
     "metadata": {},
     "output_type": "execute_result"
    }
   ],
   "source": [
    "review_score_df = pd.DataFrame(review_df.iloc[:, 1:4])\n",
    "review_score_df = review_score_df.join(user_score_df.set_index('user_id'), on='user_id')\n",
    "review_score_df.head(5)"
   ]
  },
  {
   "cell_type": "markdown",
   "id": "1a565087",
   "metadata": {},
   "source": [
    "### 3. Obtain the weighted score of `business` based on `review`\n",
    "Code reference: https://sparkbyexamples.com/pandas/pandas-groupby-sum-examples/"
   ]
  },
  {
   "cell_type": "code",
   "execution_count": 163,
   "id": "51857a22",
   "metadata": {},
   "outputs": [
    {
     "data": {
      "text/html": [
       "<div>\n",
       "<style scoped>\n",
       "    .dataframe tbody tr th:only-of-type {\n",
       "        vertical-align: middle;\n",
       "    }\n",
       "\n",
       "    .dataframe tbody tr th {\n",
       "        vertical-align: top;\n",
       "    }\n",
       "\n",
       "    .dataframe thead th {\n",
       "        text-align: right;\n",
       "    }\n",
       "</style>\n",
       "<table border=\"1\" class=\"dataframe\">\n",
       "  <thead>\n",
       "    <tr style=\"text-align: right;\">\n",
       "      <th></th>\n",
       "      <th>business_id</th>\n",
       "      <th>stars</th>\n",
       "      <th>review_count</th>\n",
       "      <th>fans</th>\n",
       "    </tr>\n",
       "  </thead>\n",
       "  <tbody>\n",
       "    <tr>\n",
       "      <th>0</th>\n",
       "      <td>---kPU91CF4Lq2-WlRu9Lw</td>\n",
       "      <td>4.0</td>\n",
       "      <td>3.00</td>\n",
       "      <td>7.00</td>\n",
       "    </tr>\n",
       "    <tr>\n",
       "      <th>1</th>\n",
       "      <td>--epgcb7xHGuJ-4PUeSLAw</td>\n",
       "      <td>4.0</td>\n",
       "      <td>3.20</td>\n",
       "      <td>6.00</td>\n",
       "    </tr>\n",
       "    <tr>\n",
       "      <th>2</th>\n",
       "      <td>--hF_3v1JmU9nlu4zfXJ8Q</td>\n",
       "      <td>4.5</td>\n",
       "      <td>1.75</td>\n",
       "      <td>2.25</td>\n",
       "    </tr>\n",
       "  </tbody>\n",
       "</table>\n",
       "</div>"
      ],
      "text/plain": [
       "              business_id  stars  review_count  fans\n",
       "0  ---kPU91CF4Lq2-WlRu9Lw    4.0          3.00  7.00\n",
       "1  --epgcb7xHGuJ-4PUeSLAw    4.0          3.20  6.00\n",
       "2  --hF_3v1JmU9nlu4zfXJ8Q    4.5          1.75  2.25"
      ]
     },
     "execution_count": 163,
     "metadata": {},
     "output_type": "execute_result"
    }
   ],
   "source": [
    "review_restaurant_df = review_score_df.drop(columns=\"user_id\")\n",
    "review_restaurant_df = review_restaurant_df.groupby('business_id', as_index=False).mean()\n",
    "# review_restaurant_df = review_restaurant_df.groupby('business_id', as_index=False).agg(['sum', 'count']).reset_index() \n",
    "review_restaurant_df.head(3)"
   ]
  },
  {
   "cell_type": "code",
   "execution_count": 157,
   "id": "8fa6dae5",
   "metadata": {},
   "outputs": [
    {
     "data": {
      "text/plain": [
       "Index(['business_id', 'name', 'address', 'city', 'state', 'postal_code',\n",
       "       'latitude', 'longitude', 'stars', 'review_count', 'is_open',\n",
       "       'attributes', 'categories', 'hours'],\n",
       "      dtype='object')"
      ]
     },
     "execution_count": 157,
     "metadata": {},
     "output_type": "execute_result"
    }
   ],
   "source": [
    "restaurant_df.columns"
   ]
  },
  {
   "cell_type": "code",
   "execution_count": 167,
   "id": "1b394246",
   "metadata": {},
   "outputs": [
    {
     "data": {
      "text/html": [
       "<div>\n",
       "<style scoped>\n",
       "    .dataframe tbody tr th:only-of-type {\n",
       "        vertical-align: middle;\n",
       "    }\n",
       "\n",
       "    .dataframe tbody tr th {\n",
       "        vertical-align: top;\n",
       "    }\n",
       "\n",
       "    .dataframe thead th {\n",
       "        text-align: right;\n",
       "    }\n",
       "</style>\n",
       "<table border=\"1\" class=\"dataframe\">\n",
       "  <thead>\n",
       "    <tr style=\"text-align: right;\">\n",
       "      <th></th>\n",
       "      <th>business_id</th>\n",
       "      <th>stars</th>\n",
       "      <th>review_count</th>\n",
       "      <th>fans</th>\n",
       "    </tr>\n",
       "  </thead>\n",
       "  <tbody>\n",
       "    <tr>\n",
       "      <th>0</th>\n",
       "      <td>MTSW4McQd7CbVtyjqoe9mw</td>\n",
       "      <td>3.914286</td>\n",
       "      <td>3.485714</td>\n",
       "      <td>6.828571</td>\n",
       "    </tr>\n",
       "    <tr>\n",
       "      <th>1</th>\n",
       "      <td>CF33F8-E6oudUQ46HnavjQ</td>\n",
       "      <td>4.000000</td>\n",
       "      <td>4.000000</td>\n",
       "      <td>5.000000</td>\n",
       "    </tr>\n",
       "    <tr>\n",
       "      <th>2</th>\n",
       "      <td>bBDDEgkFA1Otx9Lfe7BZUQ</td>\n",
       "      <td>3.000000</td>\n",
       "      <td>3.000000</td>\n",
       "      <td>9.000000</td>\n",
       "    </tr>\n",
       "  </tbody>\n",
       "</table>\n",
       "</div>"
      ],
      "text/plain": [
       "              business_id     stars  review_count      fans\n",
       "0  MTSW4McQd7CbVtyjqoe9mw  3.914286      3.485714  6.828571\n",
       "1  CF33F8-E6oudUQ46HnavjQ  4.000000      4.000000  5.000000\n",
       "2  bBDDEgkFA1Otx9Lfe7BZUQ  3.000000      3.000000  9.000000"
      ]
     },
     "execution_count": 167,
     "metadata": {},
     "output_type": "execute_result"
    }
   ],
   "source": [
    "restaurant_score_df = pd.DataFrame(restaurant_df['business_id'])\n",
    "restaurant_score_df = restaurant_score_df.join(review_restaurant_df.set_index('business_id'), on='business_id')\n",
    "restaurant_score_df.head(3)"
   ]
  },
  {
   "cell_type": "code",
   "execution_count": 189,
   "id": "3a0caeb3",
   "metadata": {},
   "outputs": [
    {
     "data": {
      "text/html": [
       "<div>\n",
       "<style scoped>\n",
       "    .dataframe tbody tr th:only-of-type {\n",
       "        vertical-align: middle;\n",
       "    }\n",
       "\n",
       "    .dataframe tbody tr th {\n",
       "        vertical-align: top;\n",
       "    }\n",
       "\n",
       "    .dataframe thead th {\n",
       "        text-align: right;\n",
       "    }\n",
       "</style>\n",
       "<table border=\"1\" class=\"dataframe\">\n",
       "  <thead>\n",
       "    <tr style=\"text-align: right;\">\n",
       "      <th></th>\n",
       "      <th>business_id</th>\n",
       "      <th>name</th>\n",
       "      <th>address</th>\n",
       "      <th>city</th>\n",
       "      <th>state</th>\n",
       "      <th>postal_code</th>\n",
       "      <th>latitude</th>\n",
       "      <th>longitude</th>\n",
       "      <th>stars</th>\n",
       "      <th>review_count</th>\n",
       "    </tr>\n",
       "  </thead>\n",
       "  <tbody>\n",
       "    <tr>\n",
       "      <th>0</th>\n",
       "      <td>MTSW4McQd7CbVtyjqoe9mw</td>\n",
       "      <td>St Honore Pastries</td>\n",
       "      <td>935 Race St</td>\n",
       "      <td>Philadelphia</td>\n",
       "      <td>PA</td>\n",
       "      <td>19107</td>\n",
       "      <td>39.955505</td>\n",
       "      <td>-75.155564</td>\n",
       "      <td>4.0</td>\n",
       "      <td>80</td>\n",
       "    </tr>\n",
       "    <tr>\n",
       "      <th>1</th>\n",
       "      <td>CF33F8-E6oudUQ46HnavjQ</td>\n",
       "      <td>Sonic Drive-In</td>\n",
       "      <td>615 S Main St</td>\n",
       "      <td>Ashland City</td>\n",
       "      <td>TN</td>\n",
       "      <td>37015</td>\n",
       "      <td>36.269593</td>\n",
       "      <td>-87.058943</td>\n",
       "      <td>2.0</td>\n",
       "      <td>6</td>\n",
       "    </tr>\n",
       "    <tr>\n",
       "      <th>2</th>\n",
       "      <td>bBDDEgkFA1Otx9Lfe7BZUQ</td>\n",
       "      <td>Sonic Drive-In</td>\n",
       "      <td>2312 Dickerson Pike</td>\n",
       "      <td>Nashville</td>\n",
       "      <td>TN</td>\n",
       "      <td>37207</td>\n",
       "      <td>36.208102</td>\n",
       "      <td>-86.768170</td>\n",
       "      <td>1.5</td>\n",
       "      <td>10</td>\n",
       "    </tr>\n",
       "  </tbody>\n",
       "</table>\n",
       "</div>"
      ],
      "text/plain": [
       "              business_id                name              address  \\\n",
       "0  MTSW4McQd7CbVtyjqoe9mw  St Honore Pastries          935 Race St   \n",
       "1  CF33F8-E6oudUQ46HnavjQ      Sonic Drive-In        615 S Main St   \n",
       "2  bBDDEgkFA1Otx9Lfe7BZUQ      Sonic Drive-In  2312 Dickerson Pike   \n",
       "\n",
       "           city state postal_code   latitude  longitude  stars  review_count  \n",
       "0  Philadelphia    PA       19107  39.955505 -75.155564    4.0            80  \n",
       "1  Ashland City    TN       37015  36.269593 -87.058943    2.0             6  \n",
       "2     Nashville    TN       37207  36.208102 -86.768170    1.5            10  "
      ]
     },
     "execution_count": 189,
     "metadata": {},
     "output_type": "execute_result"
    }
   ],
   "source": [
    "restaurant_df.iloc[:, :-4].head(3)"
   ]
  },
  {
   "cell_type": "markdown",
   "id": "9e2497ab",
   "metadata": {},
   "source": [
    "### 4. Sum all/parts of the scores for clustering"
   ]
  },
  {
   "cell_type": "markdown",
   "id": "5fac603c",
   "metadata": {},
   "source": [
    "**Examples**\n",
    "* sum - `restaurant_score_df[['stars', 'review_count', 'fans']].sum(1)`\n",
    "* define ur own function as below"
   ]
  },
  {
   "cell_type": "code",
   "execution_count": 195,
   "id": "5c7d5531",
   "metadata": {},
   "outputs": [
    {
     "data": {
      "text/plain": [
       "0         93.169586\n",
       "1         80.000000\n",
       "2         81.000000\n",
       "3        250.000000\n",
       "4         70.000000\n",
       "            ...    \n",
       "31352     76.901249\n",
       "31353    170.625000\n",
       "31354     90.037037\n",
       "31355     98.222222\n",
       "31356     85.750000\n",
       "Length: 31357, dtype: float64"
      ]
     },
     "execution_count": 195,
     "metadata": {},
     "output_type": "execute_result"
    }
   ],
   "source": [
    "def my_combine_function(arr):\n",
    "    output = 1\n",
    "    for ele in arr:\n",
    "        output *= ele\n",
    "    return output\n",
    "\n",
    "restaurant_score_df[['stars', 'review_count', 'fans']].apply(my_combine_function, axis=1)"
   ]
  },
  {
   "cell_type": "markdown",
   "id": "0b73a6a5",
   "metadata": {},
   "source": [
    "* combination (e.g., `sum` and self-defined functions)"
   ]
  },
  {
   "cell_type": "code",
   "execution_count": 198,
   "id": "7fa378cc",
   "metadata": {},
   "outputs": [
    {
     "data": {
      "text/plain": [
       "0        12.983946\n",
       "1        10.800000\n",
       "2        12.800000\n",
       "3        22.333333\n",
       "4        15.333333\n",
       "           ...    \n",
       "31352    11.391003\n",
       "31353    16.508333\n",
       "31354    12.340741\n",
       "31355    12.518519\n",
       "31356    12.133333\n",
       "Length: 31357, dtype: float64"
      ]
     },
     "execution_count": 198,
     "metadata": {},
     "output_type": "execute_result"
    }
   ],
   "source": [
    "def weighted_score(arr):\n",
    "    return arr[0]*0.4+arr[1]*0.6\n",
    "final_score = restaurant_score_df[['stars', 'fans']].apply(my_combine_function, axis=1)\n",
    "final_score += restaurant_score_df[['fans', 'review_count']].apply(weighted_score, axis=1)\n",
    "final_score += restaurant_score_df[['stars', 'review_count']].sum(1)\n",
    "final_score/3"
   ]
  },
  {
   "cell_type": "code",
   "execution_count": null,
   "id": "8ee7aac1",
   "metadata": {},
   "outputs": [],
   "source": []
  }
 ],
 "metadata": {
  "kernelspec": {
   "display_name": "shh",
   "language": "python",
   "name": "shh"
  },
  "language_info": {
   "codemirror_mode": {
    "name": "ipython",
    "version": 3
   },
   "file_extension": ".py",
   "mimetype": "text/x-python",
   "name": "python",
   "nbconvert_exporter": "python",
   "pygments_lexer": "ipython3",
   "version": "3.10.6"
  }
 },
 "nbformat": 4,
 "nbformat_minor": 5
}
