{
 "cells": [
  {
   "cell_type": "code",
   "execution_count": 1,
   "id": "015baa8f",
   "metadata": {},
   "outputs": [],
   "source": [
    "import pandas as pd\n",
    "import os\n",
    "import numpy as np"
   ]
  },
  {
   "cell_type": "code",
   "execution_count": 2,
   "id": "653ae213",
   "metadata": {},
   "outputs": [
    {
     "name": "stdout",
     "output_type": "stream",
     "text": [
      "['yelp_academic_dataset_checkin.json', 'yelp_academic_dataset_tip.json', 'yelp_academic_dataset_review.json', 'yelp_academic_dataset_business.json', 'yelp_academic_dataset_user.json']\n"
     ]
    }
   ],
   "source": [
    "root = '../Yelp/'\n",
    "filenames = [ele for ele in os.listdir(root) if ele.endswith('json')]\n",
    "print(filenames)"
   ]
  },
  {
   "cell_type": "markdown",
   "id": "acea4f9f",
   "metadata": {},
   "source": [
    "# Prune `user`"
   ]
  },
  {
   "cell_type": "code",
   "execution_count": 4,
   "id": "815690de",
   "metadata": {},
   "outputs": [
    {
     "name": "stdout",
     "output_type": "stream",
     "text": [
      "<class 'pandas.core.frame.DataFrame'>\n",
      "RangeIndex: 1987897 entries, 0 to 1987896\n",
      "Data columns (total 22 columns):\n",
      " #   Column              Dtype  \n",
      "---  ------              -----  \n",
      " 0   user_id             object \n",
      " 1   name                object \n",
      " 2   review_count        int64  \n",
      " 3   yelping_since       object \n",
      " 4   useful              int64  \n",
      " 5   funny               int64  \n",
      " 6   cool                int64  \n",
      " 7   elite               object \n",
      " 8   friends             object \n",
      " 9   fans                int64  \n",
      " 10  average_stars       float64\n",
      " 11  compliment_hot      int64  \n",
      " 12  compliment_more     int64  \n",
      " 13  compliment_profile  int64  \n",
      " 14  compliment_cute     int64  \n",
      " 15  compliment_list     int64  \n",
      " 16  compliment_note     int64  \n",
      " 17  compliment_plain    int64  \n",
      " 18  compliment_cool     int64  \n",
      " 19  compliment_funny    int64  \n",
      " 20  compliment_writer   int64  \n",
      " 21  compliment_photos   int64  \n",
      "dtypes: float64(1), int64(16), object(5)\n",
      "memory usage: 333.7+ MB\n",
      "None\n"
     ]
    }
   ],
   "source": [
    "# user\n",
    "user_df = pd.read_json(os.path.join(root, \"yelp_academic_dataset_user.json\"), lines=True)\n",
    "print(user_df.info())"
   ]
  },
  {
   "cell_type": "markdown",
   "id": "4cfc501f",
   "metadata": {},
   "source": [
    "* `fans` >= 10"
   ]
  },
  {
   "cell_type": "code",
   "execution_count": 27,
   "id": "6bd1bc7f",
   "metadata": {},
   "outputs": [
    {
     "name": "stdout",
     "output_type": "stream",
     "text": [
      "Before: (1987897, 22)\n",
      "After: (51588, 22)\n"
     ]
    }
   ],
   "source": [
    "print(f'Before: {user_df.shape}')\n",
    "active_user_df = user_df.loc[user_df.fans >= 10]\n",
    "print(f'After: {active_user_df.shape}')"
   ]
  },
  {
   "cell_type": "markdown",
   "id": "48592f61",
   "metadata": {},
   "source": [
    "* len(`elite`) > 0 "
   ]
  },
  {
   "cell_type": "code",
   "execution_count": 28,
   "id": "82f6ea8e",
   "metadata": {},
   "outputs": [
    {
     "name": "stdout",
     "output_type": "stream",
     "text": [
      "Before: (51588, 22)\n",
      "After: (43494, 22)\n"
     ]
    }
   ],
   "source": [
    "print(f'Before: {active_user_df.shape}')\n",
    "active_user_df = active_user_df.loc[active_user_df.elite.str.len() > 0]\n",
    "active_user_df = active_user_df.loc[active_user_df.elite.str.split(',').apply(lambda x: len(x)) > 0]\n",
    "print(f'After: {active_user_df.shape}')"
   ]
  },
  {
   "cell_type": "code",
   "execution_count": 29,
   "id": "c8779f9c",
   "metadata": {},
   "outputs": [],
   "source": [
    "active_user_df.to_json('rev_Yelp/yelp_academic_dataset_user.json')"
   ]
  },
  {
   "cell_type": "markdown",
   "id": "d8fe2ab0",
   "metadata": {},
   "source": [
    "# Prune `business`"
   ]
  },
  {
   "cell_type": "code",
   "execution_count": 32,
   "id": "c30a8ab5",
   "metadata": {},
   "outputs": [
    {
     "name": "stdout",
     "output_type": "stream",
     "text": [
      "<class 'pandas.core.frame.DataFrame'>\n",
      "RangeIndex: 150346 entries, 0 to 150345\n",
      "Data columns (total 14 columns):\n",
      " #   Column        Non-Null Count   Dtype  \n",
      "---  ------        --------------   -----  \n",
      " 0   business_id   150346 non-null  object \n",
      " 1   name          150346 non-null  object \n",
      " 2   address       150346 non-null  object \n",
      " 3   city          150346 non-null  object \n",
      " 4   state         150346 non-null  object \n",
      " 5   postal_code   150346 non-null  object \n",
      " 6   latitude      150346 non-null  float64\n",
      " 7   longitude     150346 non-null  float64\n",
      " 8   stars         150346 non-null  float64\n",
      " 9   review_count  150346 non-null  int64  \n",
      " 10  is_open       150346 non-null  int64  \n",
      " 11  attributes    136602 non-null  object \n",
      " 12  categories    150243 non-null  object \n",
      " 13  hours         127123 non-null  object \n",
      "dtypes: float64(3), int64(2), object(9)\n",
      "memory usage: 16.1+ MB\n",
      "None\n"
     ]
    }
   ],
   "source": [
    "# business\n",
    "business_df = pd.read_json(os.path.join(root, \"yelp_academic_dataset_business.json\"), lines=True)\n",
    "print(business_df.info())"
   ]
  },
  {
   "cell_type": "markdown",
   "id": "ceb31775",
   "metadata": {},
   "source": [
    "* Delete null value"
   ]
  },
  {
   "cell_type": "code",
   "execution_count": 34,
   "id": "9550828c",
   "metadata": {},
   "outputs": [
    {
     "name": "stdout",
     "output_type": "stream",
     "text": [
      "Before: (150346, 14)\n",
      "After: (117618, 14)\n"
     ]
    }
   ],
   "source": [
    "print(f'Before: {business_df.shape}')\n",
    "business_df = business_df.loc[~business_df['hours'].isnull()]\n",
    "business_df = business_df.loc[~business_df['categories'].isnull()]\n",
    "business_df = business_df.loc[~business_df['attributes'].isnull()]\n",
    "print(f'After: {business_df.shape}')"
   ]
  },
  {
   "cell_type": "markdown",
   "id": "8e25fafe",
   "metadata": {},
   "source": [
    "* `categories` has \"Restaurants\""
   ]
  },
  {
   "cell_type": "code",
   "execution_count": 35,
   "id": "91706b9d",
   "metadata": {},
   "outputs": [
    {
     "name": "stdout",
     "output_type": "stream",
     "text": [
      "Before: (117618, 14)\n",
      "After: (44676, 14)\n"
     ]
    }
   ],
   "source": [
    "print(f'Before: {business_df.shape}')\n",
    "restaurant_df = business_df.loc[business_df['categories'].str.contains('Restaurants')]\n",
    "print(f'After: {restaurant_df.shape}')"
   ]
  },
  {
   "cell_type": "markdown",
   "id": "92bf32f7",
   "metadata": {},
   "source": [
    "* Delete `is_open` equal to 0"
   ]
  },
  {
   "cell_type": "code",
   "execution_count": 40,
   "id": "1615e922",
   "metadata": {},
   "outputs": [
    {
     "name": "stdout",
     "output_type": "stream",
     "text": [
      "Before: (44676, 14)\n",
      "After: (31357, 14)\n"
     ]
    }
   ],
   "source": [
    "print(f'Before: {restaurant_df.shape}')\n",
    "restaurant_df = restaurant_df.loc[restaurant_df['is_open'] == 1]\n",
    "print(f'After: {restaurant_df.shape}')"
   ]
  },
  {
   "cell_type": "code",
   "execution_count": 41,
   "id": "ea7bf7d0",
   "metadata": {},
   "outputs": [],
   "source": [
    "restaurant_df.to_json('rev_Yelp/yelp_academic_dataset_business.json')"
   ]
  },
  {
   "cell_type": "markdown",
   "id": "2e4cf105",
   "metadata": {},
   "source": [
    "# Load `user` and `business` json to prune other tables"
   ]
  },
  {
   "cell_type": "code",
   "execution_count": 4,
   "id": "c42d2075",
   "metadata": {},
   "outputs": [
    {
     "name": "stdout",
     "output_type": "stream",
     "text": [
      "<class 'pandas.core.frame.DataFrame'>\n",
      "Int64Index: 43494 entries, 0 to 1876575\n",
      "Data columns (total 22 columns):\n",
      " #   Column              Non-Null Count  Dtype  \n",
      "---  ------              --------------  -----  \n",
      " 0   user_id             43494 non-null  object \n",
      " 1   name                43494 non-null  object \n",
      " 2   review_count        43494 non-null  int64  \n",
      " 3   yelping_since       43494 non-null  object \n",
      " 4   useful              43494 non-null  int64  \n",
      " 5   funny               43494 non-null  int64  \n",
      " 6   cool                43494 non-null  int64  \n",
      " 7   elite               43494 non-null  object \n",
      " 8   friends             43494 non-null  object \n",
      " 9   fans                43494 non-null  int64  \n",
      " 10  average_stars       43494 non-null  float64\n",
      " 11  compliment_hot      43494 non-null  int64  \n",
      " 12  compliment_more     43494 non-null  int64  \n",
      " 13  compliment_profile  43494 non-null  int64  \n",
      " 14  compliment_cute     43494 non-null  int64  \n",
      " 15  compliment_list     43494 non-null  int64  \n",
      " 16  compliment_note     43494 non-null  int64  \n",
      " 17  compliment_plain    43494 non-null  int64  \n",
      " 18  compliment_cool     43494 non-null  int64  \n",
      " 19  compliment_funny    43494 non-null  int64  \n",
      " 20  compliment_writer   43494 non-null  int64  \n",
      " 21  compliment_photos   43494 non-null  int64  \n",
      "dtypes: float64(1), int64(16), object(5)\n",
      "memory usage: 7.6+ MB\n",
      "None\n",
      "<class 'pandas.core.frame.DataFrame'>\n",
      "Int64Index: 31357 entries, 3 to 150339\n",
      "Data columns (total 14 columns):\n",
      " #   Column        Non-Null Count  Dtype  \n",
      "---  ------        --------------  -----  \n",
      " 0   business_id   31357 non-null  object \n",
      " 1   name          31357 non-null  object \n",
      " 2   address       31357 non-null  object \n",
      " 3   city          31357 non-null  object \n",
      " 4   state         31357 non-null  object \n",
      " 5   postal_code   31357 non-null  object \n",
      " 6   latitude      31357 non-null  float64\n",
      " 7   longitude     31357 non-null  float64\n",
      " 8   stars         31357 non-null  float64\n",
      " 9   review_count  31357 non-null  int64  \n",
      " 10  is_open       31357 non-null  int64  \n",
      " 11  attributes    31357 non-null  object \n",
      " 12  categories    31357 non-null  object \n",
      " 13  hours         31357 non-null  object \n",
      "dtypes: float64(3), int64(2), object(9)\n",
      "memory usage: 3.6+ MB\n",
      "None\n"
     ]
    }
   ],
   "source": [
    "# check\n",
    "active_user_df = pd.read_json(\"rev_Yelp/yelp_academic_dataset_user.json\")\n",
    "print(active_user_df.info())\n",
    "restaurant_df = pd.read_json(\"rev_Yelp/yelp_academic_dataset_business.json\")\n",
    "print(restaurant_df.info())"
   ]
  },
  {
   "cell_type": "markdown",
   "id": "2efa32f3",
   "metadata": {},
   "source": [
    "## Prune `review`"
   ]
  },
  {
   "cell_type": "code",
   "execution_count": 5,
   "id": "54348282",
   "metadata": {},
   "outputs": [
    {
     "name": "stdout",
     "output_type": "stream",
     "text": [
      "<class 'pandas.core.frame.DataFrame'>\n",
      "RangeIndex: 6990280 entries, 0 to 6990279\n",
      "Data columns (total 9 columns):\n",
      " #   Column       Dtype         \n",
      "---  ------       -----         \n",
      " 0   review_id    object        \n",
      " 1   user_id      object        \n",
      " 2   business_id  object        \n",
      " 3   stars        int64         \n",
      " 4   useful       int64         \n",
      " 5   funny        int64         \n",
      " 6   cool         int64         \n",
      " 7   text         object        \n",
      " 8   date         datetime64[ns]\n",
      "dtypes: datetime64[ns](1), int64(4), object(4)\n",
      "memory usage: 480.0+ MB\n",
      "None\n"
     ]
    }
   ],
   "source": [
    "# review\n",
    "review_df = pd.read_json(os.path.join(root, \"yelp_academic_dataset_review.json\"), lines=True)\n",
    "print(review_df.info())"
   ]
  },
  {
   "cell_type": "markdown",
   "id": "69e08bc7",
   "metadata": {},
   "source": [
    "* Delete non-existing `business_id` and `user_id`"
   ]
  },
  {
   "cell_type": "code",
   "execution_count": 6,
   "id": "495e2fcf",
   "metadata": {},
   "outputs": [
    {
     "name": "stdout",
     "output_type": "stream",
     "text": [
      "Before: (6990280, 9)\n",
      "After: (1067201, 9)\n"
     ]
    }
   ],
   "source": [
    "print(f'Before: {review_df.shape}')\n",
    "rev_review_df = review_df[review_df['user_id'].isin(active_user_df['user_id'].values)]\n",
    "print(f'After: {rev_review_df.shape}')"
   ]
  },
  {
   "cell_type": "code",
   "execution_count": 7,
   "id": "56501baa",
   "metadata": {},
   "outputs": [
    {
     "name": "stdout",
     "output_type": "stream",
     "text": [
      "Before: (1067201, 9)\n",
      "After: (550008, 9)\n"
     ]
    }
   ],
   "source": [
    "print(f'Before: {rev_review_df.shape}')\n",
    "rev_review_df = rev_review_df[rev_review_df['business_id'].isin(restaurant_df['business_id'].values)]\n",
    "print(f'After: {rev_review_df.shape}')"
   ]
  },
  {
   "cell_type": "code",
   "execution_count": 8,
   "id": "8d33057e",
   "metadata": {},
   "outputs": [],
   "source": [
    "rev_review_df.to_json('rev_Yelp/yelp_academic_dataset_review.json')"
   ]
  },
  {
   "cell_type": "markdown",
   "id": "9fa089d0",
   "metadata": {},
   "source": [
    "# Prune `tip`"
   ]
  },
  {
   "cell_type": "code",
   "execution_count": 9,
   "id": "b30a86b5",
   "metadata": {},
   "outputs": [
    {
     "name": "stdout",
     "output_type": "stream",
     "text": [
      "<class 'pandas.core.frame.DataFrame'>\n",
      "RangeIndex: 908915 entries, 0 to 908914\n",
      "Data columns (total 5 columns):\n",
      " #   Column            Non-Null Count   Dtype         \n",
      "---  ------            --------------   -----         \n",
      " 0   user_id           908915 non-null  object        \n",
      " 1   business_id       908915 non-null  object        \n",
      " 2   text              908915 non-null  object        \n",
      " 3   date              908915 non-null  datetime64[ns]\n",
      " 4   compliment_count  908915 non-null  int64         \n",
      "dtypes: datetime64[ns](1), int64(1), object(3)\n",
      "memory usage: 34.7+ MB\n",
      "None\n"
     ]
    }
   ],
   "source": [
    "# tip\n",
    "tip_df = pd.read_json(os.path.join(root, \"yelp_academic_dataset_tip.json\"), lines=True)\n",
    "print(tip_df.info())"
   ]
  },
  {
   "cell_type": "markdown",
   "id": "dc822fca",
   "metadata": {},
   "source": [
    "* Delete non-existing `business_id` and `user_id`"
   ]
  },
  {
   "cell_type": "code",
   "execution_count": 10,
   "id": "819248a0",
   "metadata": {},
   "outputs": [
    {
     "name": "stdout",
     "output_type": "stream",
     "text": [
      "Before: (908915, 5)\n",
      "After: (197871, 5)\n"
     ]
    }
   ],
   "source": [
    "print(f'Before: {tip_df.shape}')\n",
    "rev_tip_df = tip_df[tip_df['user_id'].isin(active_user_df['user_id'].values)]\n",
    "print(f'After: {rev_tip_df.shape}')"
   ]
  },
  {
   "cell_type": "code",
   "execution_count": 11,
   "id": "a452344a",
   "metadata": {},
   "outputs": [
    {
     "name": "stdout",
     "output_type": "stream",
     "text": [
      "Before: (197871, 5)\n",
      "After: (87899, 5)\n"
     ]
    }
   ],
   "source": [
    "print(f'Before: {rev_tip_df.shape}')\n",
    "rev_tip_df = rev_tip_df[rev_tip_df['business_id'].isin(restaurant_df['business_id'].values)]\n",
    "print(f'After: {rev_tip_df.shape}')"
   ]
  },
  {
   "cell_type": "code",
   "execution_count": 12,
   "id": "ab382eb6",
   "metadata": {},
   "outputs": [],
   "source": [
    "rev_tip_df.to_json('rev_Yelp/yelp_academic_dataset_tip.json')"
   ]
  },
  {
   "cell_type": "code",
   "execution_count": null,
   "id": "ba54de7e",
   "metadata": {},
   "outputs": [],
   "source": []
  }
 ],
 "metadata": {
  "kernelspec": {
   "display_name": "shh",
   "language": "python",
   "name": "shh"
  },
  "language_info": {
   "codemirror_mode": {
    "name": "ipython",
    "version": 3
   },
   "file_extension": ".py",
   "mimetype": "text/x-python",
   "name": "python",
   "nbconvert_exporter": "python",
   "pygments_lexer": "ipython3",
   "version": "3.10.6"
  }
 },
 "nbformat": 4,
 "nbformat_minor": 5
}
